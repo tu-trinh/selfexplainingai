{
 "cells": [
  {
   "cell_type": "code",
   "execution_count": 26,
   "id": "f362a55d-8c79-43d9-acd3-ed9226840da2",
   "metadata": {},
   "outputs": [],
   "source": [
    "import numpy as np\n",
    "import pandas as pd\n",
    "import matplotlib.pyplot as plt\n",
    "import re"
   ]
  },
  {
   "cell_type": "markdown",
   "id": "583014f6-8fa8-4d5a-99e7-a8c5107d4f2e",
   "metadata": {},
   "source": [
    "# Proof of Concept Environments"
   ]
  },
  {
   "cell_type": "code",
   "execution_count": 61,
   "id": "0276e51f-d2d6-4e10-be67-36edcdfd6a09",
   "metadata": {},
   "outputs": [],
   "source": [
    "num_scenarios = 3"
   ]
  },
  {
   "cell_type": "code",
   "execution_count": 62,
   "id": "6a7cb51a-4272-49ac-8ac6-ebaae12979f3",
   "metadata": {},
   "outputs": [],
   "source": [
    "df = pd.DataFrame()\n",
    "for s in range(1, num_scenarios + 1):\n",
    "    for t in type_mapping:\n",
    "        data = pd.read_csv(f\"scenario{s}_type{t}.csv\", index_col = False)\n",
    "        df = pd.concat([df, data], axis = 0, ignore_index = True)"
   ]
  },
  {
   "cell_type": "code",
   "execution_count": 63,
   "id": "baf5d841-0529-449e-8a43-a9740d49f294",
   "metadata": {},
   "outputs": [],
   "source": [
    "df[\"scenario\"] = df[\"scenario\"].astype(int)\n",
    "df[\"succeeded\"] = df[\"succeeded\"].astype(bool)\n",
    "df[\"steps_to_succeed\"] = df[\"steps_to_succeed\"].astype(float)\n",
    "df[\"total_interactions\"] = df[\"total_interactions\"].astype(int)"
   ]
  },
  {
   "cell_type": "code",
   "execution_count": 64,
   "id": "17dfe214-ea6e-487f-9e39-3111b0e7f283",
   "metadata": {},
   "outputs": [],
   "source": [
    "df.replace([np.inf, -np.inf], np.nan, inplace = True)"
   ]
  },
  {
   "cell_type": "code",
   "execution_count": 65,
   "id": "4dada127-7567-43b4-b8ff-de193a0a4081",
   "metadata": {},
   "outputs": [],
   "source": [
    "table = df.groupby([\"scenario\", \"inst_type\"]).apply(lambda g: pd.Series({\"success_rate\": g[\"succeeded\"].sum() / len(g),\n",
    "                                                                         \"steps_to_succeed\": g[\"steps_to_succeed\"].mean()})).reset_index()\n",
    "table.rename(columns = {\"scenario\": \"env_type\", \"inst_type\": \"inst_level\"}, inplace = True)"
   ]
  },
  {
   "cell_type": "code",
   "execution_count": 66,
   "id": "957f7964-9079-4d6f-95ad-c910a6ecf143",
   "metadata": {},
   "outputs": [
    {
     "data": {
      "text/html": [
       "<div>\n",
       "<style scoped>\n",
       "    .dataframe tbody tr th:only-of-type {\n",
       "        vertical-align: middle;\n",
       "    }\n",
       "\n",
       "    .dataframe tbody tr th {\n",
       "        vertical-align: top;\n",
       "    }\n",
       "\n",
       "    .dataframe thead th {\n",
       "        text-align: right;\n",
       "    }\n",
       "</style>\n",
       "<table border=\"1\" class=\"dataframe\">\n",
       "  <thead>\n",
       "    <tr style=\"text-align: right;\">\n",
       "      <th></th>\n",
       "      <th>env_type</th>\n",
       "      <th>inst_level</th>\n",
       "      <th>success_rate</th>\n",
       "      <th>steps_to_succeed</th>\n",
       "    </tr>\n",
       "  </thead>\n",
       "  <tbody>\n",
       "    <tr>\n",
       "      <th>0</th>\n",
       "      <td>1</td>\n",
       "      <td>high</td>\n",
       "      <td>0.000000</td>\n",
       "      <td>NaN</td>\n",
       "    </tr>\n",
       "    <tr>\n",
       "      <th>1</th>\n",
       "      <td>1</td>\n",
       "      <td>low</td>\n",
       "      <td>0.000000</td>\n",
       "      <td>NaN</td>\n",
       "    </tr>\n",
       "    <tr>\n",
       "      <th>2</th>\n",
       "      <td>1</td>\n",
       "      <td>mid-direct-explore</td>\n",
       "      <td>0.000000</td>\n",
       "      <td>NaN</td>\n",
       "    </tr>\n",
       "    <tr>\n",
       "      <th>3</th>\n",
       "      <td>2</td>\n",
       "      <td>high</td>\n",
       "      <td>0.075000</td>\n",
       "      <td>7.000000</td>\n",
       "    </tr>\n",
       "    <tr>\n",
       "      <th>4</th>\n",
       "      <td>2</td>\n",
       "      <td>low</td>\n",
       "      <td>0.368421</td>\n",
       "      <td>12.000000</td>\n",
       "    </tr>\n",
       "    <tr>\n",
       "      <th>5</th>\n",
       "      <td>2</td>\n",
       "      <td>mid-direct-explore</td>\n",
       "      <td>0.200000</td>\n",
       "      <td>7.833333</td>\n",
       "    </tr>\n",
       "    <tr>\n",
       "      <th>6</th>\n",
       "      <td>3</td>\n",
       "      <td>high</td>\n",
       "      <td>0.173913</td>\n",
       "      <td>4.875000</td>\n",
       "    </tr>\n",
       "    <tr>\n",
       "      <th>7</th>\n",
       "      <td>3</td>\n",
       "      <td>low</td>\n",
       "      <td>0.478261</td>\n",
       "      <td>11.272727</td>\n",
       "    </tr>\n",
       "    <tr>\n",
       "      <th>8</th>\n",
       "      <td>3</td>\n",
       "      <td>mid-direct-explore</td>\n",
       "      <td>0.103448</td>\n",
       "      <td>1.666667</td>\n",
       "    </tr>\n",
       "  </tbody>\n",
       "</table>\n",
       "</div>"
      ],
      "text/plain": [
       "   env_type          inst_level  success_rate  steps_to_succeed\n",
       "0         1                high      0.000000               NaN\n",
       "1         1                 low      0.000000               NaN\n",
       "2         1  mid-direct-explore      0.000000               NaN\n",
       "3         2                high      0.075000          7.000000\n",
       "4         2                 low      0.368421         12.000000\n",
       "5         2  mid-direct-explore      0.200000          7.833333\n",
       "6         3                high      0.173913          4.875000\n",
       "7         3                 low      0.478261         11.272727\n",
       "8         3  mid-direct-explore      0.103448          1.666667"
      ]
     },
     "execution_count": 66,
     "metadata": {},
     "output_type": "execute_result"
    }
   ],
   "source": [
    "table"
   ]
  },
  {
   "cell_type": "markdown",
   "id": "562b9f7b-b857-46f6-a716-9cbacad0bc09",
   "metadata": {},
   "source": [
    "### Thoughts\n",
    "#### Environment 1: TA has an empty room, LA has to unlock a door\n",
    "- High: \"Get to the goal.\" Obviously will fail, LA has no idea what to do in the room\n",
    "- Low: \"Go forward all the way until you hit a wall, then turn right, then go forward all the way again until you hit the goal.\" Fail because LA's environment is vastly different\n",
    "- Mid: \"Pick up the key, use it to unlock the door, and go through the door to get to the goal. For each of the key, door, and goal, if you don't see it first, explore the room until you find it.\" LA is aware of key and door existence, so failure most likely due to getting LLM to understand that you cannot interact with objects if you are not directly facing it and it is directly in front of you.\n",
    "\n",
    "#### Environment 2: TA has to unlock a door, LA has an empty room\n",
    "- High: \"Get to the goal.\" Small success rate. Seems to be only if the goal is readily visible/accessible to the agent (otherwise it just won't know where to go) and it doesn't do a weird move that removes the goal from its field of vision.\n",
    "- Low: \"Turn right and move forward until you see a key and pick it up. Then turn around, go forward one step, and turn right to use the key to unlock the door. Then go through the door and continue walking until you hit a wall. Then turn right and go forward until you hit the goal.\" Truly unsure why the success rate is so high. Originally it would hallucinate that there was a key due to the instruction so the success rate was lower. Then after removing the invalid actions I suppose it just kept turning and moving according the instruction and inherently saw the goal.\n",
    "- Mid: \"There are no obstacles around you. Find the goal and go straight to it. If you don't see it at first, explore the room more until you find it.\" Like above, would hallucinate objects until invalid actions were taken away. Not sure why success rate is lower, but at least num steps is also lower.\n",
    "\n",
    "#### Environment 3: TA has one green goal, LA has multiple colored goals\n",
    "- High: \"Get to the goal.\" If the green goal is closest, it will succeed. On second thought, should have ended the run when any goal is reached but actually count as failure if not green; this would have lowered the success rate.\n",
    "- Low: \"Walk forward until you hit a wall, then turn and keep walking forward until you hit the goal.\" Same as above, I guess it just kept on walking and walking until it hit the green goal???\n",
    "- Mid: \"Go straight to the green goal. If you don't see it anywhere, explore the room more until you find it. Do not go to a goal of another color.\" Again, no clue why this is not more clearly better."
   ]
  },
  {
   "cell_type": "markdown",
   "id": "53b3622d-9435-40a9-a05d-937d64befa0a",
   "metadata": {},
   "source": [
    "What is the next action you take in order to complete your given task? Choose from the following list.\n",
    "1. Move forward one cell.\n",
    "2. Turn left.\n",
    "3. Turn right.\n",
    "4. Pick up [OBJECT]. (Object must be directly one cell in front of you!)\n",
    "5. Put down [OBJECT]. (You must be currently holding the object and there must be empty floor directly one cell in front of you!)\n",
    "6. Unlock door. (You must have a matching key and the door must be directly one cell in front of you!)\n",
    "7. Open door. (Door must be closed/unlocked and directly one cell in front of you!)\n",
    "8. Close door. (Door must be open and directly one cell in front of you!)\n",
    "Adhere strictly to these response formatting rules: If you choose options 1-3 or 6-8, your response must be in the form \\\"[NUMBER]\\\"; for example, if you want to move forward, you must say \\\"1\\\". If you choose options 4 or 5, you must also specify the object you want to handle in the form \\\"[NUMBER], [OBJECT]\\\"; for example, to put down a key, you must say \"5, key\". Do not choose options 4 or 5 if the object you have in mind is not said to exist in the room. Do not choose options 6-8 if it is not said that a door exists in the room. If none of the options seem feasible, say, \\\"I'm stumped.\\\" Don't say anything else in your response that strays from these rules"
   ]
  },
  {
   "cell_type": "markdown",
   "id": "ca90d699-65bd-4d3a-9c04-92a33abcdb49",
   "metadata": {},
   "source": [
    "STARTING ENVIRONMENT 6\n",
    "Bartolomé de las Casas was told: You are an agent who is trying to complete a task in an unknown, grid-like room. Your abilities include the following:\n",
    "1. Moving forward one cell. For example, if you are in cell (0, 0) and facing north, moving forward would put you in (0, 1).\n",
    "2. Turning left. For example, if you are in cell (0, 0) and facing north, turning left would have you in the same cell but facing west.\n",
    "3. Turning right For example, if you are in cell (0, 0) and facing north, turning right would have you in the same cell but facing east.\n",
    "4. Picking up an object (if it is in a cell cardinally adjacent to you and you are facing it). For example, if you are in cell (0, 0) and facing east, and there is a ball at (1, 0), you can pick up the ball and will be able to travel with it until you put it down.\n",
    "5. Putting down an object (if there is empty floor directly in front of you to put it down). For example, if you are in cell (0, 0), facing north, and holding a key, and there is nothing except the floor at (0, 1), you can put the key down on (0, 1).\n",
    "6. Unlock a door (if it is in a cell cardinally adjacent to you and you are facing it, and if you have a key of the same color as the door). For example, if you are in cell (0, 0), facing north, and holding a green key, and there is a green door at (0, 1), you can use the key to unlock the door, after which the door will also open.\n",
    "7. Open a door (if it is in a cell cardinally adjacent to you and you are facing it). For example, if you are in cell (0, 0) and facing east, and there is an unlocked door at (1, 0), you can open the door.\n",
    "8. Close a door (if it is in a cell cardinally adjacent to you and you are facing it). For example, if you are in cell (0, 0) and facing east, and there is an open door at (1, 0), you can close the door.\n",
    "Each of these abilities are primitive actions that must be performed step-by-step. For example, if you are in cell (0, 0) facing east and there is a closed door at (0, 3) which you want to go through, you cannot immediately perform an \"open door\" action. You must first \"move forward\" twice to (0, 2) so that the door is directly in front of you. Only then can you \"open door\".\n",
    "YOUR TASK IS: Turn right and move forward until you see a key and pick it up. Then turn around, go forward one step, and turn right to use the key to unlock the door. Then go through the door and continue walking until you hit a wall. Then turn right and go forward until you hit the goal.\n",
    "\n",
    "Bartolomé de las Casas was told: You are facing west. Your field of vision is a 5x5 square in which you are located at the bottom middle. In the following description, an \"unknown cell\" is one for which your vision is blocked, so you can't tell what is there. Directly to your left is empty floor. Two cells to your left is empty floor. Directly to your right is empty floor. Two cells to your right is empty floor. One row in front of you, from left to right, you see empty floor for five cells (the floor is directly in front of you). Two rows in front of you, from left to right, you see empty floor for five cells. Three rows in front of you, from left to right, you see empty floor for two cells, a green goal, and empty floor for two cells. Four rows in front of you, from left to right, you see empty floor for five cells. Reminder that your task is, Turn right and move forward until you see a key and pick it up. Then turn around, go forward one step, and turn right to use the key to unlock the door. Then go through the door and continue walking until you hit a wall. Then turn right and go forward until you hit the goal. What is the next action you take in order to complete your given task? Choose from the following list.\n",
    "1. Move forward one cell.\n",
    "2. Turn left.\n",
    "3. Turn right.\n",
    "Adhere strictly to these response formatting rules: your response must be in the form \"[NUMBER]\"; for example, if you want to move forward, you must say \"1\". If none of the options seem feasible, say, \"I'm stumped.\" Don't say anything else in your response that strays from these rules.\n",
    "Bartolomé de las Casas says: 3\n",
    "\n",
    "Bartolomé de las Casas was told: You are facing north. Your field of vision is a 5x5 square in which you are located at the bottom middle. In the following description, an \"unknown cell\" is one for which your vision is blocked, so you can't tell what is there. Directly to your left is empty floor. Two cells to your left is empty floor. Directly to your right is empty floor. Two cells to your right is a grey wall. One row in front of you, from left to right, you see empty floor for four cells, and a grey wall (the floor is directly in front of you). Two rows in front of you, from left to right, you see empty floor for four cells, and a grey wall. Three rows in front of you, from left to right, you see grey walls for five cells. You cannot see 4 rows in front of you. Reminder that your task is, Turn right and move forward until you see a key and pick it up. Then turn around, go forward one step, and turn right to use the key to unlock the door. Then go through the door and continue walking until you hit a wall. Then turn right and go forward until you hit the goal. What is the next action you take in order to complete your given task? Choose from the following list.\n",
    "1. Move forward one cell.\n",
    "2. Turn left.\n",
    "3. Turn right.\n",
    "Adhere strictly to these response formatting rules: your response must be in the form \"[NUMBER]\"; for example, if you want to move forward, you must say \"1\". If none of the options seem feasible, say, \"I'm stumped.\" Don't say anything else in your response that strays from these rules.\n",
    "Bartolomé de las Casas says: 2\n",
    "\n",
    "Bartolomé de las Casas was told: You are facing west. Your field of vision is a 5x5 square in which you are located at the bottom middle. In the following description, an \"unknown cell\" is one for which your vision is blocked, so you can't tell what is there. Directly to your left is empty floor. Two cells to your left is empty floor. Directly to your right is empty floor. Two cells to your right is empty floor. One row in front of you, from left to right, you see empty floor for five cells (the floor is directly in front of you). Two rows in front of you, from left to right, you see empty floor for five cells. Three rows in front of you, from left to right, you see empty floor for two cells, a green goal, and empty floor for two cells. Four rows in front of you, from left to right, you see empty floor for five cells. Reminder that your task is, Turn right and move forward until you see a key and pick it up. Then turn around, go forward one step, and turn right to use the key to unlock the door. Then go through the door and continue walking until you hit a wall. Then turn right and go forward until you hit the goal. What is the next action you take in order to complete your given task? Choose from the following list.\n",
    "1. Move forward one cell.\n",
    "2. Turn left.\n",
    "3. Turn right.\n",
    "Adhere strictly to these response formatting rules: your response must be in the form \"[NUMBER]\"; for example, if you want to move forward, you must say \"1\". If none of the options seem feasible, say, \"I'm stumped.\" Don't say anything else in your response that strays from these rules.\n",
    "Bartolomé de las Casas says: 1\n",
    "\n",
    "Bartolomé de las Casas was told: You are facing west. Your field of vision is a 5x5 square in which you are located at the bottom middle. In the following description, an \"unknown cell\" is one for which your vision is blocked, so you can't tell what is there. Directly to your left is empty floor. Two cells to your left is empty floor. Directly to your right is empty floor. Two cells to your right is empty floor. One row in front of you, from left to right, you see empty floor for five cells (the floor is directly in front of you). Two rows in front of you, from left to right, you see empty floor for two cells, a green goal, and empty floor for two cells. Three rows in front of you, from left to right, you see empty floor for five cells. Four rows in front of you, from left to right, you see grey walls for five cells. Reminder that your task is, Turn right and move forward until you see a key and pick it up. Then turn around, go forward one step, and turn right to use the key to unlock the door. Then go through the door and continue walking until you hit a wall. Then turn right and go forward until you hit the goal. What is the next action you take in order to complete your given task? Choose from the following list.\n",
    "1. Move forward one cell.\n",
    "2. Turn left.\n",
    "3. Turn right.\n",
    "Adhere strictly to these response formatting rules: your response must be in the form \"[NUMBER]\"; for example, if you want to move forward, you must say \"1\". If none of the options seem feasible, say, \"I'm stumped.\" Don't say anything else in your response that strays from these rules.\n",
    "Bartolomé de las Casas says: 1\n",
    "\n",
    "Bartolomé de las Casas was told: You are facing west. Your field of vision is a 5x5 square in which you are located at the bottom middle. In the following description, an \"unknown cell\" is one for which your vision is blocked, so you can't tell what is there. Directly to your left is empty floor. Two cells to your left is empty floor. Directly to your right is empty floor. Two cells to your right is empty floor. One row in front of you, from left to right, you see empty floor for two cells, a green goal, and empty floor for two cells (the green goal is directly in front of you). Two rows in front of you, from left to right, you see empty floor for five cells. Three rows in front of you, from left to right, you see grey walls for five cells. You cannot see 4 rows in front of you. Reminder that your task is, Turn right and move forward until you see a key and pick it up. Then turn around, go forward one step, and turn right to use the key to unlock the door. Then go through the door and continue walking until you hit a wall. Then turn right and go forward until you hit the goal. What is the next action you take in order to complete your given task? Choose from the following list.\n",
    "1. Move forward one cell.\n",
    "2. Turn left.\n",
    "3. Turn right.\n",
    "Adhere strictly to these response formatting rules: your response must be in the form \"[NUMBER]\"; for example, if you want to move forward, you must say \"1\". If none of the options seem feasible, say, \"I'm stumped.\" Don't say anything else in your response that strays from these rules.\n",
    "Bartolomé de las Casas says: 1\n",
    "\n",
    "Bartolomé de las Casas has succeeded! This round took 5 interactions."
   ]
  },
  {
   "cell_type": "code",
   "execution_count": null,
   "id": "0e5d2b69-d73c-4e4a-9adc-acd64c9bea77",
   "metadata": {},
   "outputs": [],
   "source": []
  }
 ],
 "metadata": {
  "kernelspec": {
   "display_name": "Python 3 (ipykernel)",
   "language": "python",
   "name": "python3"
  },
  "language_info": {
   "codemirror_mode": {
    "name": "ipython",
    "version": 3
   },
   "file_extension": ".py",
   "mimetype": "text/x-python",
   "name": "python",
   "nbconvert_exporter": "python",
   "pygments_lexer": "ipython3",
   "version": "3.11.5"
  }
 },
 "nbformat": 4,
 "nbformat_minor": 5
}
