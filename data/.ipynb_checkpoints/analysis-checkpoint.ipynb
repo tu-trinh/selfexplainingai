{
 "cells": [
  {
   "cell_type": "code",
   "execution_count": 1,
   "id": "f362a55d-8c79-43d9-acd3-ed9226840da2",
   "metadata": {},
   "outputs": [],
   "source": [
    "import numpy as np\n",
    "import pandas as pd\n",
    "import matplotlib.pyplot as plt\n",
    "import re"
   ]
  },
  {
   "cell_type": "markdown",
   "id": "583014f6-8fa8-4d5a-99e7-a8c5107d4f2e",
   "metadata": {
    "jp-MarkdownHeadingCollapsed": true
   },
   "source": [
    "# Proof of Concept Environments"
   ]
  },
  {
   "cell_type": "code",
   "execution_count": 61,
   "id": "0276e51f-d2d6-4e10-be67-36edcdfd6a09",
   "metadata": {},
   "outputs": [],
   "source": [
    "num_scenarios = 3"
   ]
  },
  {
   "cell_type": "code",
   "execution_count": 62,
   "id": "6a7cb51a-4272-49ac-8ac6-ebaae12979f3",
   "metadata": {},
   "outputs": [],
   "source": [
    "df = pd.DataFrame()\n",
    "for s in range(1, num_scenarios + 1):\n",
    "    for t in type_mapping:\n",
    "        data = pd.read_csv(f\"scenario{s}_type{t}.csv\", index_col = False)\n",
    "        df = pd.concat([df, data], axis = 0, ignore_index = True)"
   ]
  },
  {
   "cell_type": "code",
   "execution_count": 63,
   "id": "baf5d841-0529-449e-8a43-a9740d49f294",
   "metadata": {},
   "outputs": [],
   "source": [
    "df[\"scenario\"] = df[\"scenario\"].astype(int)\n",
    "df[\"succeeded\"] = df[\"succeeded\"].astype(bool)\n",
    "df[\"steps_to_succeed\"] = df[\"steps_to_succeed\"].astype(float)\n",
    "df[\"total_interactions\"] = df[\"total_interactions\"].astype(int)"
   ]
  },
  {
   "cell_type": "code",
   "execution_count": 64,
   "id": "17dfe214-ea6e-487f-9e39-3111b0e7f283",
   "metadata": {},
   "outputs": [],
   "source": [
    "df.replace([np.inf, -np.inf], np.nan, inplace = True)"
   ]
  },
  {
   "cell_type": "code",
   "execution_count": 65,
   "id": "4dada127-7567-43b4-b8ff-de193a0a4081",
   "metadata": {},
   "outputs": [],
   "source": [
    "table = df.groupby([\"scenario\", \"inst_type\"]).apply(lambda g: pd.Series({\"success_rate\": g[\"succeeded\"].sum() / len(g),\n",
    "                                                                         \"steps_to_succeed\": g[\"steps_to_succeed\"].mean()})).reset_index()\n",
    "table.rename(columns = {\"scenario\": \"env_type\", \"inst_type\": \"inst_level\"}, inplace = True)"
   ]
  },
  {
   "cell_type": "code",
   "execution_count": 66,
   "id": "957f7964-9079-4d6f-95ad-c910a6ecf143",
   "metadata": {},
   "outputs": [
    {
     "data": {
      "text/html": [
       "<div>\n",
       "<style scoped>\n",
       "    .dataframe tbody tr th:only-of-type {\n",
       "        vertical-align: middle;\n",
       "    }\n",
       "\n",
       "    .dataframe tbody tr th {\n",
       "        vertical-align: top;\n",
       "    }\n",
       "\n",
       "    .dataframe thead th {\n",
       "        text-align: right;\n",
       "    }\n",
       "</style>\n",
       "<table border=\"1\" class=\"dataframe\">\n",
       "  <thead>\n",
       "    <tr style=\"text-align: right;\">\n",
       "      <th></th>\n",
       "      <th>env_type</th>\n",
       "      <th>inst_level</th>\n",
       "      <th>success_rate</th>\n",
       "      <th>steps_to_succeed</th>\n",
       "    </tr>\n",
       "  </thead>\n",
       "  <tbody>\n",
       "    <tr>\n",
       "      <th>0</th>\n",
       "      <td>1</td>\n",
       "      <td>high</td>\n",
       "      <td>0.000000</td>\n",
       "      <td>NaN</td>\n",
       "    </tr>\n",
       "    <tr>\n",
       "      <th>1</th>\n",
       "      <td>1</td>\n",
       "      <td>low</td>\n",
       "      <td>0.000000</td>\n",
       "      <td>NaN</td>\n",
       "    </tr>\n",
       "    <tr>\n",
       "      <th>2</th>\n",
       "      <td>1</td>\n",
       "      <td>mid-direct-explore</td>\n",
       "      <td>0.000000</td>\n",
       "      <td>NaN</td>\n",
       "    </tr>\n",
       "    <tr>\n",
       "      <th>3</th>\n",
       "      <td>2</td>\n",
       "      <td>high</td>\n",
       "      <td>0.075000</td>\n",
       "      <td>7.000000</td>\n",
       "    </tr>\n",
       "    <tr>\n",
       "      <th>4</th>\n",
       "      <td>2</td>\n",
       "      <td>low</td>\n",
       "      <td>0.368421</td>\n",
       "      <td>12.000000</td>\n",
       "    </tr>\n",
       "    <tr>\n",
       "      <th>5</th>\n",
       "      <td>2</td>\n",
       "      <td>mid-direct-explore</td>\n",
       "      <td>0.200000</td>\n",
       "      <td>7.833333</td>\n",
       "    </tr>\n",
       "    <tr>\n",
       "      <th>6</th>\n",
       "      <td>3</td>\n",
       "      <td>high</td>\n",
       "      <td>0.173913</td>\n",
       "      <td>4.875000</td>\n",
       "    </tr>\n",
       "    <tr>\n",
       "      <th>7</th>\n",
       "      <td>3</td>\n",
       "      <td>low</td>\n",
       "      <td>0.478261</td>\n",
       "      <td>11.272727</td>\n",
       "    </tr>\n",
       "    <tr>\n",
       "      <th>8</th>\n",
       "      <td>3</td>\n",
       "      <td>mid-direct-explore</td>\n",
       "      <td>0.103448</td>\n",
       "      <td>1.666667</td>\n",
       "    </tr>\n",
       "  </tbody>\n",
       "</table>\n",
       "</div>"
      ],
      "text/plain": [
       "   env_type          inst_level  success_rate  steps_to_succeed\n",
       "0         1                high      0.000000               NaN\n",
       "1         1                 low      0.000000               NaN\n",
       "2         1  mid-direct-explore      0.000000               NaN\n",
       "3         2                high      0.075000          7.000000\n",
       "4         2                 low      0.368421         12.000000\n",
       "5         2  mid-direct-explore      0.200000          7.833333\n",
       "6         3                high      0.173913          4.875000\n",
       "7         3                 low      0.478261         11.272727\n",
       "8         3  mid-direct-explore      0.103448          1.666667"
      ]
     },
     "execution_count": 66,
     "metadata": {},
     "output_type": "execute_result"
    }
   ],
   "source": [
    "table"
   ]
  },
  {
   "cell_type": "markdown",
   "id": "562b9f7b-b857-46f6-a716-9cbacad0bc09",
   "metadata": {},
   "source": [
    "### Thoughts\n",
    "#### Environment 1: TA has an empty room, LA has to unlock a door\n",
    "- High: \"Get to the goal.\" Obviously will fail, LA has no idea what to do in the room\n",
    "- Low: \"Go forward all the way until you hit a wall, then turn right, then go forward all the way again until you hit the goal.\" Fail because LA's environment is vastly different\n",
    "- Mid: \"Pick up the key, use it to unlock the door, and go through the door to get to the goal. For each of the key, door, and goal, if you don't see it first, explore the room until you find it.\" LA is aware of key and door existence, so failure most likely due to getting LLM to understand that you cannot interact with objects if you are not directly facing it and it is directly in front of you.\n",
    "\n",
    "#### Environment 2: TA has to unlock a door, LA has an empty room\n",
    "- High: \"Get to the goal.\" Small success rate. Seems to be only if the goal is readily visible/accessible to the agent (otherwise it just won't know where to go) and it doesn't do a weird move that removes the goal from its field of vision.\n",
    "- Low: \"Turn right and move forward until you see a key and pick it up. Then turn around, go forward one step, and turn right to use the key to unlock the door. Then go through the door and continue walking until you hit a wall. Then turn right and go forward until you hit the goal.\" Truly unsure why the success rate is so high. Originally it would hallucinate that there was a key due to the instruction so the success rate was lower. Then after removing the invalid actions I suppose it just kept turning and moving according the instruction and inherently saw the goal.\n",
    "- Mid: \"There are no obstacles around you. Find the goal and go straight to it. If you don't see it at first, explore the room more until you find it.\" Like above, would hallucinate objects until invalid actions were taken away. Not sure why success rate is lower, but at least num steps is also lower.\n",
    "\n",
    "#### Environment 3: TA has one green goal, LA has multiple colored goals\n",
    "- High: \"Get to the goal.\" If the green goal is closest, it will succeed. On second thought, should have ended the run when any goal is reached but actually count as failure if not green; this would have lowered the success rate.\n",
    "- Low: \"Walk forward until you hit a wall, then turn and keep walking forward until you hit the goal.\" Same as above, I guess it just kept on walking and walking until it hit the green goal???\n",
    "- Mid: \"Go straight to the green goal. If you don't see it anywhere, explore the room more until you find it. Do not go to a goal of another color.\" Again, no clue why this is not more clearly better."
   ]
  },
  {
   "cell_type": "markdown",
   "id": "cf96ebab-decb-4ecf-b141-3c9e8abf2324",
   "metadata": {
    "jp-MarkdownHeadingCollapsed": true
   },
   "source": [
    "# BabyAI-Text Environments"
   ]
  },
  {
   "cell_type": "code",
   "execution_count": 17,
   "id": "b0231b93-a3c7-4726-b02f-679c0925de56",
   "metadata": {},
   "outputs": [],
   "source": [
    "instruction_types = [\"high\", \"low-teach\", \"low-learn\", \"mid-direct-explore\"]"
   ]
  },
  {
   "cell_type": "code",
   "execution_count": 18,
   "id": "43a73a6d-ad1a-469b-b090-91cf1a49c8e8",
   "metadata": {},
   "outputs": [],
   "source": [
    "num_scenarios = 1"
   ]
  },
  {
   "cell_type": "code",
   "execution_count": 19,
   "id": "3e7cb801-31ee-4f07-bfa4-bc24ab5dd428",
   "metadata": {},
   "outputs": [],
   "source": [
    "df = pd.DataFrame()\n",
    "for s in range(1, num_scenarios + 1):\n",
    "    for type in instruction_types:\n",
    "        data = pd.read_csv(f\"data/babyai_text/scenario{s}_{type.replace('-', '_')}.csv\", index_col = False)\n",
    "        df = pd.concat([df, data], axis = 0, ignore_index = True)"
   ]
  },
  {
   "cell_type": "code",
   "execution_count": 20,
   "id": "6220d97a-6902-47c0-9633-dffc65b07d60",
   "metadata": {},
   "outputs": [],
   "source": [
    "df[\"scenario\"] = df[\"scenario\"].astype(int)\n",
    "df[\"succeeded\"] = df[\"succeeded\"].astype(bool)\n",
    "df[\"steps_to_succeed\"] = df[\"steps_to_succeed\"].astype(float)\n",
    "df[\"total_interactions\"] = df[\"total_interactions\"].astype(int)\n",
    "\n",
    "df.replace([np.inf, -np.inf], np.nan, inplace = True)"
   ]
  },
  {
   "cell_type": "code",
   "execution_count": 21,
   "id": "936399eb-bf6c-488a-9105-57b3b96e2d0f",
   "metadata": {},
   "outputs": [],
   "source": [
    "table = df.groupby([\"scenario\", \"inst_type\"]).apply(lambda g: pd.Series({\"success_rate\": g[\"succeeded\"].sum() / len(g),\n",
    "                                                                         \"steps_to_succeed\": g[\"steps_to_succeed\"].mean()})).reset_index()\n",
    "table.rename(columns = {\"scenario\": \"env_type\", \"inst_type\": \"inst_level\"}, inplace = True)"
   ]
  },
  {
   "cell_type": "code",
   "execution_count": 22,
   "id": "2ae99bbe-a69f-49ca-bbbe-5dc252ca4f51",
   "metadata": {},
   "outputs": [
    {
     "data": {
      "text/html": [
       "<div>\n",
       "<style scoped>\n",
       "    .dataframe tbody tr th:only-of-type {\n",
       "        vertical-align: middle;\n",
       "    }\n",
       "\n",
       "    .dataframe tbody tr th {\n",
       "        vertical-align: top;\n",
       "    }\n",
       "\n",
       "    .dataframe thead th {\n",
       "        text-align: right;\n",
       "    }\n",
       "</style>\n",
       "<table border=\"1\" class=\"dataframe\">\n",
       "  <thead>\n",
       "    <tr style=\"text-align: right;\">\n",
       "      <th></th>\n",
       "      <th>env_type</th>\n",
       "      <th>inst_level</th>\n",
       "      <th>success_rate</th>\n",
       "      <th>steps_to_succeed</th>\n",
       "    </tr>\n",
       "  </thead>\n",
       "  <tbody>\n",
       "    <tr>\n",
       "      <th>0</th>\n",
       "      <td>1</td>\n",
       "      <td>high</td>\n",
       "      <td>0.1</td>\n",
       "      <td>17.8</td>\n",
       "    </tr>\n",
       "    <tr>\n",
       "      <th>1</th>\n",
       "      <td>1</td>\n",
       "      <td>low-learn</td>\n",
       "      <td>0.3</td>\n",
       "      <td>14.5</td>\n",
       "    </tr>\n",
       "    <tr>\n",
       "      <th>2</th>\n",
       "      <td>1</td>\n",
       "      <td>low-teach</td>\n",
       "      <td>0.1</td>\n",
       "      <td>17.7</td>\n",
       "    </tr>\n",
       "    <tr>\n",
       "      <th>3</th>\n",
       "      <td>1</td>\n",
       "      <td>mid-direct-explore</td>\n",
       "      <td>0.2</td>\n",
       "      <td>20.6</td>\n",
       "    </tr>\n",
       "  </tbody>\n",
       "</table>\n",
       "</div>"
      ],
      "text/plain": [
       "   env_type          inst_level  success_rate  steps_to_succeed\n",
       "0         1                high           0.1              17.8\n",
       "1         1           low-learn           0.3              14.5\n",
       "2         1           low-teach           0.1              17.7\n",
       "3         1  mid-direct-explore           0.2              20.6"
      ]
     },
     "execution_count": 22,
     "metadata": {},
     "output_type": "execute_result"
    }
   ],
   "source": [
    "table"
   ]
  },
  {
   "cell_type": "markdown",
   "id": "ac9ad49d-1271-4199-8ad8-ea3d82baea5e",
   "metadata": {},
   "source": [
    "# Custom Environments with more high level actions"
   ]
  },
  {
   "cell_type": "code",
   "execution_count": 35,
   "id": "69aec163-b7b0-4434-bb57-8996ab69ed13",
   "metadata": {},
   "outputs": [],
   "source": [
    "df = pd.DataFrame()\n",
    "for s in range(1, num_scenarios + 1):\n",
    "    for type in instruction_types:\n",
    "        data = pd.read_csv(f\"data/high_level_actions_360_explore/scenario{s}_{type.replace('-', '_')}.csv\", index_col = False)\n",
    "        df = pd.concat([df, data], axis = 0, ignore_index = True)"
   ]
  },
  {
   "cell_type": "code",
   "execution_count": 36,
   "id": "b63c6b4c-3be0-4aed-ab7f-4c2a978d0125",
   "metadata": {},
   "outputs": [],
   "source": [
    "df[\"scenario\"] = df[\"scenario\"].astype(int)\n",
    "df[\"succeeded\"] = df[\"succeeded\"].astype(bool)\n",
    "df[\"steps_to_succeed\"] = df[\"steps_to_succeed\"].astype(int)\n",
    "df[\"total_interactions\"] = df[\"total_interactions\"].astype(int)\n",
    "\n",
    "df.replace([np.inf, -np.inf], np.nan, inplace = True)"
   ]
  },
  {
   "cell_type": "code",
   "execution_count": 37,
   "id": "8462b617-0b69-45ed-920f-0d13c3b42c6c",
   "metadata": {},
   "outputs": [],
   "source": [
    "table = df.groupby([\"scenario\", \"inst_type\"]).apply(lambda g: pd.Series({\"success_rate\": g[\"succeeded\"].sum() / len(g),\n",
    "                                                                         \"steps_to_succeed\": g[\"steps_to_succeed\"].mean()})).reset_index()\n",
    "table.rename(columns = {\"scenario\": \"env_type\", \"inst_type\": \"inst_level\"}, inplace = True)"
   ]
  },
  {
   "cell_type": "code",
   "execution_count": 38,
   "id": "aad51fca-a274-483d-813d-acda185a80cc",
   "metadata": {},
   "outputs": [
    {
     "data": {
      "text/html": [
       "<div>\n",
       "<style scoped>\n",
       "    .dataframe tbody tr th:only-of-type {\n",
       "        vertical-align: middle;\n",
       "    }\n",
       "\n",
       "    .dataframe tbody tr th {\n",
       "        vertical-align: top;\n",
       "    }\n",
       "\n",
       "    .dataframe thead th {\n",
       "        text-align: right;\n",
       "    }\n",
       "</style>\n",
       "<table border=\"1\" class=\"dataframe\">\n",
       "  <thead>\n",
       "    <tr style=\"text-align: right;\">\n",
       "      <th></th>\n",
       "      <th>env_type</th>\n",
       "      <th>inst_level</th>\n",
       "      <th>success_rate</th>\n",
       "      <th>steps_to_succeed</th>\n",
       "    </tr>\n",
       "  </thead>\n",
       "  <tbody>\n",
       "    <tr>\n",
       "      <th>0</th>\n",
       "      <td>1</td>\n",
       "      <td>high</td>\n",
       "      <td>0.100000</td>\n",
       "      <td>13.400000</td>\n",
       "    </tr>\n",
       "    <tr>\n",
       "      <th>1</th>\n",
       "      <td>1</td>\n",
       "      <td>low-learn</td>\n",
       "      <td>0.300000</td>\n",
       "      <td>15.400000</td>\n",
       "    </tr>\n",
       "    <tr>\n",
       "      <th>2</th>\n",
       "      <td>1</td>\n",
       "      <td>low-teach</td>\n",
       "      <td>0.142857</td>\n",
       "      <td>19.714286</td>\n",
       "    </tr>\n",
       "    <tr>\n",
       "      <th>3</th>\n",
       "      <td>1</td>\n",
       "      <td>mid-direct-explore</td>\n",
       "      <td>0.285714</td>\n",
       "      <td>17.857143</td>\n",
       "    </tr>\n",
       "  </tbody>\n",
       "</table>\n",
       "</div>"
      ],
      "text/plain": [
       "   env_type          inst_level  success_rate  steps_to_succeed\n",
       "0         1                high      0.100000         13.400000\n",
       "1         1           low-learn      0.300000         15.400000\n",
       "2         1           low-teach      0.142857         19.714286\n",
       "3         1  mid-direct-explore      0.285714         17.857143"
      ]
     },
     "execution_count": 38,
     "metadata": {},
     "output_type": "execute_result"
    }
   ],
   "source": [
    "table"
   ]
  },
  {
   "cell_type": "markdown",
   "id": "17057bb8-4b46-41e2-9cf0-5c32579b6276",
   "metadata": {},
   "source": [
    "# Mistral Tests and GPT Tests"
   ]
  },
  {
   "cell_type": "code",
   "execution_count": 11,
   "id": "93bd0e11",
   "metadata": {},
   "outputs": [],
   "source": [
    "num_setups = 5\n",
    "instruction_types = [\"high\", \"low_teacher\", \"low_learner\", \"mid_direct_explore\"]"
   ]
  },
  {
   "cell_type": "code",
   "execution_count": 20,
   "id": "23953bbb-19e4-4ffb-b787-80004dbd80f4",
   "metadata": {},
   "outputs": [
    {
     "name": "stdout",
     "output_type": "stream",
     "text": [
      "Setup 1\n"
     ]
    },
    {
     "data": {
      "text/html": [
       "<div>\n",
       "<style scoped>\n",
       "    .dataframe tbody tr th:only-of-type {\n",
       "        vertical-align: middle;\n",
       "    }\n",
       "\n",
       "    .dataframe tbody tr th {\n",
       "        vertical-align: top;\n",
       "    }\n",
       "\n",
       "    .dataframe thead th {\n",
       "        text-align: right;\n",
       "    }\n",
       "</style>\n",
       "<table border=\"1\" class=\"dataframe\">\n",
       "  <thead>\n",
       "    <tr style=\"text-align: right;\">\n",
       "      <th></th>\n",
       "      <th>success_rate_mistral</th>\n",
       "      <th>total_steps_mistral</th>\n",
       "      <th>total_tokens_mistral</th>\n",
       "      <th>success_rate_gpt</th>\n",
       "      <th>total_steps_gpt</th>\n",
       "      <th>total_tokens_gpt</th>\n",
       "    </tr>\n",
       "    <tr>\n",
       "      <th>inst_type</th>\n",
       "      <th></th>\n",
       "      <th></th>\n",
       "      <th></th>\n",
       "      <th></th>\n",
       "      <th></th>\n",
       "      <th></th>\n",
       "    </tr>\n",
       "  </thead>\n",
       "  <tbody>\n",
       "    <tr>\n",
       "      <th>high</th>\n",
       "      <td>0.0</td>\n",
       "      <td>4.4</td>\n",
       "      <td>3191.2</td>\n",
       "      <td>0.2</td>\n",
       "      <td>6.6</td>\n",
       "      <td>4258.2</td>\n",
       "    </tr>\n",
       "    <tr>\n",
       "      <th>low_student</th>\n",
       "      <td>0.4</td>\n",
       "      <td>6.6</td>\n",
       "      <td>5502.6</td>\n",
       "      <td>0.4</td>\n",
       "      <td>10.4</td>\n",
       "      <td>6674.4</td>\n",
       "    </tr>\n",
       "    <tr>\n",
       "      <th>low_teacher</th>\n",
       "      <td>0.0</td>\n",
       "      <td>4.0</td>\n",
       "      <td>2797.4</td>\n",
       "      <td>0.2</td>\n",
       "      <td>18.8</td>\n",
       "      <td>12033.2</td>\n",
       "    </tr>\n",
       "    <tr>\n",
       "      <th>mid_direct_explore</th>\n",
       "      <td>0.0</td>\n",
       "      <td>4.6</td>\n",
       "      <td>3681.6</td>\n",
       "      <td>0.2</td>\n",
       "      <td>9.6</td>\n",
       "      <td>7290.0</td>\n",
       "    </tr>\n",
       "  </tbody>\n",
       "</table>\n",
       "</div>"
      ],
      "text/plain": [
       "                    success_rate_mistral  total_steps_mistral  \\\n",
       "inst_type                                                       \n",
       "high                                 0.0                  4.4   \n",
       "low_student                          0.4                  6.6   \n",
       "low_teacher                          0.0                  4.0   \n",
       "mid_direct_explore                   0.0                  4.6   \n",
       "\n",
       "                    total_tokens_mistral  success_rate_gpt  total_steps_gpt  \\\n",
       "inst_type                                                                     \n",
       "high                              3191.2               0.2              6.6   \n",
       "low_student                       5502.6               0.4             10.4   \n",
       "low_teacher                       2797.4               0.2             18.8   \n",
       "mid_direct_explore                3681.6               0.2              9.6   \n",
       "\n",
       "                    total_tokens_gpt  \n",
       "inst_type                             \n",
       "high                          4258.2  \n",
       "low_student                   6674.4  \n",
       "low_teacher                  12033.2  \n",
       "mid_direct_explore            7290.0  "
      ]
     },
     "execution_count": 20,
     "metadata": {},
     "output_type": "execute_result"
    }
   ],
   "source": [
    "mistral1 = pd.read_csv(\"./mistral_tests/setup1.csv\", index_col = False)\n",
    "mistral1 = mistral1.groupby(\"inst_type\").mean().drop(columns = [\"seed\"]).rename(columns = {\"succeeded\": \"success_rate\"})\n",
    "gpt1 = pd.read_csv(\"./gpt_tests/setup1.csv\", index_col = False)\n",
    "gpt1 = gpt1.groupby(\"inst_type\").mean().drop(columns = [\"seed\"]).rename(columns = {\"succeeded\": \"success_rate\"})\n",
    "setup1 = mistral1.merge(gpt1, right_index = True, left_index = True, suffixes = (\"_mistral\", \"_gpt\"))\n",
    "print(\"Setup 1\")\n",
    "setup1"
   ]
  },
  {
   "cell_type": "code",
   "execution_count": 17,
   "id": "a2d9019d-730b-493f-9d5d-535a12b1c1dd",
   "metadata": {},
   "outputs": [
    {
     "data": {
      "text/html": [
       "<div>\n",
       "<style scoped>\n",
       "    .dataframe tbody tr th:only-of-type {\n",
       "        vertical-align: middle;\n",
       "    }\n",
       "\n",
       "    .dataframe tbody tr th {\n",
       "        vertical-align: top;\n",
       "    }\n",
       "\n",
       "    .dataframe thead th {\n",
       "        text-align: right;\n",
       "    }\n",
       "</style>\n",
       "<table border=\"1\" class=\"dataframe\">\n",
       "  <thead>\n",
       "    <tr style=\"text-align: right;\">\n",
       "      <th></th>\n",
       "      <th>success_rate</th>\n",
       "      <th>total_steps</th>\n",
       "      <th>total_tokens</th>\n",
       "    </tr>\n",
       "    <tr>\n",
       "      <th>inst_type</th>\n",
       "      <th></th>\n",
       "      <th></th>\n",
       "      <th></th>\n",
       "    </tr>\n",
       "  </thead>\n",
       "  <tbody>\n",
       "    <tr>\n",
       "      <th>high</th>\n",
       "      <td>0.6</td>\n",
       "      <td>2.4</td>\n",
       "      <td>1318.0</td>\n",
       "    </tr>\n",
       "    <tr>\n",
       "      <th>low_student</th>\n",
       "      <td>0.4</td>\n",
       "      <td>3.8</td>\n",
       "      <td>3183.4</td>\n",
       "    </tr>\n",
       "    <tr>\n",
       "      <th>low_teacher</th>\n",
       "      <td>0.4</td>\n",
       "      <td>3.4</td>\n",
       "      <td>2877.2</td>\n",
       "    </tr>\n",
       "    <tr>\n",
       "      <th>mid_direct_explore</th>\n",
       "      <td>0.0</td>\n",
       "      <td>4.0</td>\n",
       "      <td>3642.4</td>\n",
       "    </tr>\n",
       "  </tbody>\n",
       "</table>\n",
       "</div>"
      ],
      "text/plain": [
       "                    success_rate  total_steps  total_tokens\n",
       "inst_type                                                  \n",
       "high                         0.6          2.4        1318.0\n",
       "low_student                  0.4          3.8        3183.4\n",
       "low_teacher                  0.4          3.4        2877.2\n",
       "mid_direct_explore           0.0          4.0        3642.4"
      ]
     },
     "execution_count": 17,
     "metadata": {},
     "output_type": "execute_result"
    }
   ],
   "source": [
    "mistral2 = pd.read_csv(\"./mistral_tests/setup2.csv\", index_col = False)\n",
    "mistral2 = mistral2.groupby(\"inst_type\").mean().drop(columns = [\"seed\"]).rename(columns = {\"succeeded\": \"success_rate\"})\n",
    "mistral2"
   ]
  },
  {
   "cell_type": "code",
   "execution_count": null,
   "id": "40a26f59-5517-41ea-9387-fb31ea88658e",
   "metadata": {},
   "outputs": [],
   "source": []
  }
 ],
 "metadata": {
  "kernelspec": {
   "display_name": "Python 3 (ipykernel)",
   "language": "python",
   "name": "python3"
  },
  "language_info": {
   "codemirror_mode": {
    "name": "ipython",
    "version": 3
   },
   "file_extension": ".py",
   "mimetype": "text/x-python",
   "name": "python",
   "nbconvert_exporter": "python",
   "pygments_lexer": "ipython3",
   "version": "3.11.5"
  }
 },
 "nbformat": 4,
 "nbformat_minor": 5
}
